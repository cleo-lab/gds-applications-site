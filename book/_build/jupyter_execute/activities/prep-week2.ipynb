{
 "cells": [
  {
   "cell_type": "code",
   "execution_count": 1,
   "id": "ea53096c-dbbb-4037-a01b-f6bdddc1e344",
   "metadata": {},
   "outputs": [
    {
     "name": "stdout",
     "output_type": "stream",
     "text": [
      "Collecting census\n",
      "  Using cached census-0.8.21-py3-none-any.whl (11 kB)\n",
      "Requirement already satisfied: requests>=1.1.0 in /Users/jryan4/Dropbox (University of Oregon)/teaching/gds-applications-site/.gds/lib/python3.9/site-packages (from census) (2.31.0)\n",
      "Requirement already satisfied: idna<4,>=2.5 in /Users/jryan4/Dropbox (University of Oregon)/teaching/gds-applications-site/.gds/lib/python3.9/site-packages (from requests>=1.1.0->census) (3.6)\n",
      "Requirement already satisfied: charset-normalizer<4,>=2 in /Users/jryan4/Dropbox (University of Oregon)/teaching/gds-applications-site/.gds/lib/python3.9/site-packages (from requests>=1.1.0->census) (3.3.2)\n",
      "Requirement already satisfied: urllib3<3,>=1.21.1 in /Users/jryan4/Dropbox (University of Oregon)/teaching/gds-applications-site/.gds/lib/python3.9/site-packages (from requests>=1.1.0->census) (2.2.1)\n",
      "Requirement already satisfied: certifi>=2017.4.17 in /Users/jryan4/Dropbox (University of Oregon)/teaching/gds-applications-site/.gds/lib/python3.9/site-packages (from requests>=1.1.0->census) (2024.2.2)\n",
      "Installing collected packages: census\n",
      "Successfully installed census-0.8.21\n",
      "\n",
      "\u001b[1m[\u001b[0m\u001b[34;49mnotice\u001b[0m\u001b[1;39;49m]\u001b[0m\u001b[39;49m A new release of pip is available: \u001b[0m\u001b[31;49m23.0.1\u001b[0m\u001b[39;49m -> \u001b[0m\u001b[32;49m24.0\u001b[0m\n",
      "\u001b[1m[\u001b[0m\u001b[34;49mnotice\u001b[0m\u001b[1;39;49m]\u001b[0m\u001b[39;49m To update, run: \u001b[0m\u001b[32;49mpip install --upgrade pip\u001b[0m\n",
      "Collecting us\n",
      "  Using cached us-3.1.1.tar.gz (14 kB)\n",
      "  Preparing metadata (setup.py) ... \u001b[?25ldone\n",
      "\u001b[?25hCollecting jellyfish==0.11.2\n",
      "  Downloading jellyfish-0.11.2-cp39-cp39-macosx_10_7_x86_64.whl (328 kB)\n",
      "\u001b[2K     \u001b[90m━━━━━━━━━━━━━━━━━━━━━━━━━━━━━━━━━━━━━\u001b[0m \u001b[32m329.0/329.0 kB\u001b[0m \u001b[31m942.8 kB/s\u001b[0m eta \u001b[36m0:00:00\u001b[0m00:01\u001b[0m00:01\u001b[0m\n",
      "\u001b[?25hInstalling collected packages: jellyfish, us\n",
      "\u001b[33m  DEPRECATION: us is being installed using the legacy 'setup.py install' method, because it does not have a 'pyproject.toml' and the 'wheel' package is not installed. pip 23.1 will enforce this behaviour change. A possible replacement is to enable the '--use-pep517' option. Discussion can be found at https://github.com/pypa/pip/issues/8559\u001b[0m\u001b[33m\n",
      "\u001b[0m  Running setup.py install for us ... \u001b[?25ldone\n",
      "\u001b[?25hSuccessfully installed jellyfish-0.11.2 us-3.1.1\n",
      "\n",
      "\u001b[1m[\u001b[0m\u001b[34;49mnotice\u001b[0m\u001b[1;39;49m]\u001b[0m\u001b[39;49m A new release of pip is available: \u001b[0m\u001b[31;49m23.0.1\u001b[0m\u001b[39;49m -> \u001b[0m\u001b[32;49m24.0\u001b[0m\n",
      "\u001b[1m[\u001b[0m\u001b[34;49mnotice\u001b[0m\u001b[1;39;49m]\u001b[0m\u001b[39;49m To update, run: \u001b[0m\u001b[32;49mpip install --upgrade pip\u001b[0m\n"
     ]
    }
   ],
   "source": [
    "!pip install census\n",
    "!pip install us"
   ]
  },
  {
   "cell_type": "code",
   "execution_count": 20,
   "id": "d9bc3d06-0d44-4557-b49f-8368892d8206",
   "metadata": {},
   "outputs": [
    {
     "name": "stdout",
     "output_type": "stream",
     "text": [
      "Collecting openpyxl\n",
      "  Downloading openpyxl-3.1.2-py2.py3-none-any.whl (249 kB)\n",
      "\u001b[2K     \u001b[90m━━━━━━━━━━━━━━━━━━━━━━━━━━━━━━━━━━━━━━━\u001b[0m \u001b[32m250.0/250.0 kB\u001b[0m \u001b[31m1.7 MB/s\u001b[0m eta \u001b[36m0:00:00\u001b[0ma \u001b[36m0:00:01\u001b[0m\n",
      "\u001b[?25hCollecting et-xmlfile\n",
      "  Downloading et_xmlfile-1.1.0-py3-none-any.whl (4.7 kB)\n",
      "Installing collected packages: et-xmlfile, openpyxl\n",
      "Successfully installed et-xmlfile-1.1.0 openpyxl-3.1.2\n",
      "\n",
      "\u001b[1m[\u001b[0m\u001b[34;49mnotice\u001b[0m\u001b[1;39;49m]\u001b[0m\u001b[39;49m A new release of pip is available: \u001b[0m\u001b[31;49m23.0.1\u001b[0m\u001b[39;49m -> \u001b[0m\u001b[32;49m24.0\u001b[0m\n",
      "\u001b[1m[\u001b[0m\u001b[34;49mnotice\u001b[0m\u001b[1;39;49m]\u001b[0m\u001b[39;49m To update, run: \u001b[0m\u001b[32;49mpip install --upgrade pip\u001b[0m\n"
     ]
    }
   ],
   "source": [
    "!pip install openpyxl"
   ]
  },
  {
   "cell_type": "code",
   "execution_count": 1,
   "id": "f8e7f101-f952-40cc-900d-4ed26bfd9de2",
   "metadata": {},
   "outputs": [],
   "source": [
    "from census import Census\n",
    "from us import states\n",
    "import pandas as pd"
   ]
  },
  {
   "cell_type": "code",
   "execution_count": 2,
   "id": "41cc3d61-57ab-44bc-98dd-f9d2083d6ff6",
   "metadata": {},
   "outputs": [],
   "source": [
    "c = Census(\"5f7e25f1ce5f52828e64cc4e5ff5f470759b4e03\")"
   ]
  },
  {
   "cell_type": "code",
   "execution_count": 4,
   "id": "b4faf6ed-88d7-4e4a-8d1d-380abfb69c57",
   "metadata": {},
   "outputs": [],
   "source": [
    "codes = ['B19301_001E', 'B01003_001E']"
   ]
  },
  {
   "cell_type": "code",
   "execution_count": 52,
   "id": "db3ec504-44fd-402a-a4e1-d37bcbc033ac",
   "metadata": {},
   "outputs": [],
   "source": [
    "data = c.acs5.state_county_tract((codes), states.OR.fips, '039', Census.ALL)"
   ]
  },
  {
   "cell_type": "code",
   "execution_count": 53,
   "id": "e117d176-1b07-4405-ab61-a789ed2acfd3",
   "metadata": {},
   "outputs": [],
   "source": [
    "df = pd.DataFrame(data)"
   ]
  },
  {
   "cell_type": "code",
   "execution_count": 54,
   "id": "707670bd-e74e-454a-b4b4-d8163e328cef",
   "metadata": {},
   "outputs": [
    {
     "data": {
      "text/plain": [
       "B19301_001E    float64\n",
       "B01003_001E    float64\n",
       "state           object\n",
       "county          object\n",
       "tract           object\n",
       "dtype: object"
      ]
     },
     "execution_count": 54,
     "metadata": {},
     "output_type": "execute_result"
    }
   ],
   "source": [
    "df.dtypes"
   ]
  },
  {
   "cell_type": "code",
   "execution_count": 55,
   "id": "cbd6a3ff-5b84-44b5-9201-9a6f92b7d55b",
   "metadata": {},
   "outputs": [],
   "source": [
    "df.to_csv('/Users/jryan4/Dropbox (University of Oregon)/teaching/gds-applications-site/book/activities/week2/data/census.csv', index=False)"
   ]
  },
  {
   "cell_type": "code",
   "execution_count": null,
   "id": "e69d0625-6328-4a51-a370-ed6abc7c1fda",
   "metadata": {},
   "outputs": [],
   "source": []
  }
 ],
 "metadata": {
  "kernelspec": {
   "display_name": "Python 3 (ipykernel)",
   "language": "python",
   "name": "python3"
  },
  "language_info": {
   "codemirror_mode": {
    "name": "ipython",
    "version": 3
   },
   "file_extension": ".py",
   "mimetype": "text/x-python",
   "name": "python",
   "nbconvert_exporter": "python",
   "pygments_lexer": "ipython3",
   "version": "3.9.18"
  }
 },
 "nbformat": 4,
 "nbformat_minor": 5
}
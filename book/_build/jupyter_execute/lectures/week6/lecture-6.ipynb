{
 "cells": [
  {
   "cell_type": "markdown",
   "id": "9d86dc93",
   "metadata": {
    "slideshow": {
     "slide_type": "skip"
    }
   },
   "source": [
    "# Code management\n",
    "\n",
    "In this demo we will learn how to setup a **Python development environment**. There are many ways to do this, but our *current* preferred option is described in the next slides. One advantage of the workflow described next is that it is cross-platform meaning that it should work on Windows, MacOS, and Linux operating systems. Some of the text here overlaps with the [intro to Python packaging](https://owel-lab.github.io/gds-applications-site/course-info/python.html) page. But, unlike that page, we will go into more detail about folder structure and development tools in this lecture. "
   ]
  },
  {
   "cell_type": "markdown",
   "id": "5419235d",
   "metadata": {},
   "source": [
    "## Python distribution\n",
    "\n",
    "A distribution is a collection of files that together allows us to build, package, and distribute a module. Since many software programs are written in Python, all computers have an internal **Python distribution** by default but it is usually an older version of Python (e.g. Python 2.7). \n",
    "\n",
    "\n",
    "Given that we require specific packages for geospatial data science, it is good practice to install a more modern Python distribution (e.g. Python 3.10.8) using [`Miniconda`](https://docs.conda.io/en/latest/miniconda.html).\n",
    "\n",
    "\n",
    "The latest version of Miniconda for your operating system can be installed from the [dowload page](https://docs.conda.io/en/latest/miniconda.html). \n",
    "\n",
    "We can check that Python installed properly by opening an **Anaconda Prompt (miniconda3)** (Windows) and entering:\n",
    "\n",
    "```\n",
    "where python\n",
    "```\n",
    "\n",
    "Or, on MacOS, open a **Terminal** and enter:\n",
    "\n",
    "```\n",
    "which python\n",
    "```\n",
    "\n",
    "We should see somthing like:\n",
    "\n",
    "```\n",
    "C:\\Users\\johnny\\miniconda3\\python.exe\n",
    "```\n",
    "\n",
    "Or:\n",
    "\n",
    "```\n",
    "/opt/miniconda3/bin/python\n",
    "```"
   ]
  },
  {
   "cell_type": "markdown",
   "id": "b7ea427a",
   "metadata": {},
   "source": [
    "## Create a project folder\n",
    "\n",
    "Every new project starts with a new folder. We make one using **File Explorer** (Windows) or **Finder** (MacOS). Or we navigate using `cd` in the command prompt and enter: \n",
    "\n",
    "```\n",
    "mkdir new-project \n",
    "```"
   ]
  },
  {
   "cell_type": "markdown",
   "id": "f75d9413",
   "metadata": {},
   "source": [
    "## Setup a virtual environment\n",
    "\n",
    "It is good practice to create a virtual environment for each new programming project (e.g. this class). A virtual environment allows us to install Python packages for one project without worrying about conflicts with packages of other projects. Python has built-in support for virtual environments using the `venv` module. A new environment can be created using the following command in an **Anaconda Prompt (miniconda3)** (Windows) or **Terminal** (macOS):\n",
    "\n",
    "```\n",
    "python -m venv .venv\n",
    "```\n",
    "\n",
    "```{note}\n",
    "This command should be run from **within** your new project folder.\n",
    "```\n",
    "\n",
    "```{margin} Note\n",
    "The dot in `.venv` means that it is a hidden file. `.venv` or `venv` are standard names for virtual environments.  \n",
    "```"
   ]
  },
  {
   "cell_type": "markdown",
   "id": "b7cf5862",
   "metadata": {},
   "source": [
    "Next we need to activate the virtual environment. In Windows this can be achieved by running:\n",
    "\n",
    "```\n",
    ".venv\\Scripts\\activate\n",
    "```\n",
    "\n",
    "On macOS, run:\n",
    "\n",
    "```\n",
    "source .venv/bin/activate\n",
    "```"
   ]
  },
  {
   "cell_type": "markdown",
   "id": "c14de3c0",
   "metadata": {},
   "source": [
    "## Install dependencies\n",
    "\n",
    "We can install individual Python packages using [`pip`](https://pip.pypa.io/en/stable/). The syntax is `pip install xxx` where `xxx` is the package we want to install. It's often easier to install multiple packages at once using a text file, so that anyone else setting up the project will have exactly the same environment. \n",
    "\n",
    "To do this we can make a text file called `requirements.txt` using **Notepad** on Windows or **TextEdit** on MacOS, add the names of the packages for the project, and save it into our new project folder. \n",
    "\n",
    "```{image} images/requirements.png\n",
    ":width: 400px\n",
    ":align: center\n",
    "```\n",
    "\n",
    "We can install all the packages at once by running:\n",
    "\n",
    "```\n",
    "pip install -r requirements.txt \n",
    "```\n",
    "\n",
    "```{note}\n",
    "This could take between a few seconds to tens of minutes depending on how many packages need to be installed.\n",
    "```\n",
    "\n",
    "We can check that everything installed properly by first running:\n",
    "\n",
    "```\n",
    "python\n",
    "```\n",
    "\n",
    "Then:\n",
    "\n",
    "```\n",
    "import numpy\n",
    "```\n",
    "\n",
    "If this runs without error, we are all good. If we get a `ModuleNotFoundError:`, we might check that the package was included in our `requirements.txt` file. \n",
    "\n",
    "```{note}\n",
    "Exit the Python interpreter by pressing `Ctrl + Z` and then `Enter` in Windows or just `control + Z` in MacOS.\n",
    "```"
   ]
  },
  {
   "cell_type": "markdown",
   "id": "bcae1e70",
   "metadata": {},
   "source": [
    "## Version control\n",
    "\n",
    "Almost all software projects use version control to keep of track of changes to files. The most popular is `git`, a free open-source software project that is installed locally. \n",
    "\n",
    "\n",
    "**GitHub** is a web-based hosting service for `git` which provides a graphical user interface to `git` and is owned by Microsoft. There are other web-based hosting services for `git` (e.g. **GitLab** and **Bitbucket**).\n",
    "\n",
    "\n",
    "There are two ways to use `git`, the command-line and **GitHub Desktop**. Most students prefer to use the desktop version to begin with but we'd be happy to provide guidance on the command-line version during labs.  \n",
    "\n",
    "\n",
    "## GitHub Desktop\n",
    "\n",
    "We will talk a bit more about `git` later in the lecture but, to continue setting up our project, go ahead and install [**GitHub Desktop**](https://desktop.github.com/). \n",
    "\n",
    "* Open **GitHub Desktop** &rarr; **Add an Existing Repository from your Hard Drive...**\n",
    "* Select **Choose...** and navigate to your project folder\n",
    "* Respond to this warning by clicking **create a repository**\n",
    "* Leave everything as is and **Create Repository**\n",
    "\n",
    "Now we can **Publish repository** on Github.com by clicking the big blue button. If you signed up for an educational GitHub account we should able to tick the box to **Keep this code private** and click **Publish Repository** again.\n",
    "\n",
    "\n",
    "## GitHub.com\n",
    "\n",
    "If we navigate to `github.com` on a web browser, sign in, and navigate to our profile, there should be a new **repository** that contains our files (just an `requirements.txt` and `.venv` folder for now).\n",
    "\n",
    "\n",
    "## Basic usage\n",
    "\n",
    "In line with our \"learn by doing\" mantra, we will demonstrate the basics of version control with GitHub using a demo. \n",
    "\n",
    "### Add a new file\n",
    "\n",
    "* Make a new text file using **Notepad** on Windows or **TextEdit** on MacOS called `README.md`, add some random text, and save.\n",
    "* In **GitHub Desktop** we will see **1 changed file**. \n",
    "* Type in **\"Added README\"** in the **Summary** box in the lower left &rarr; **Commit to main**.\n",
    "\n",
    "If we navigate to `github.com`, we will see this new file. \n",
    "\n",
    "### Make some changes\n",
    "\n",
    "Now make some changes to the text in the `README.md` file, save, **and close**. Again, we will see **1 changed file** in GitHub Desktop. \n",
    "\n",
    "### Undo the changes\n",
    "\n",
    "* Type in **\"Changed README\"** in the **Summary** box in the lower left and **Commit to main** again.\n",
    "* Click the **History** tab (next to **Changes**)\n",
    "* Right-click the **Changed README** commit and click **Revert Changes in Commit...**\n",
    "\n",
    "If we navigate to the `README.md` file, we will find that the changes we made have been deleted. We have successfully used `git` in a practical way!"
   ]
  },
  {
   "cell_type": "markdown",
   "id": "605ee1cd",
   "metadata": {},
   "source": []
  },
  {
   "cell_type": "markdown",
   "id": "0479dc9a",
   "metadata": {
    "slideshow": {
     "slide_type": "slide"
    }
   },
   "source": [
    "<img src=\"images/version_control.png\" alt=\"https://phdcomics.com/comics/archive_print.php?comicid=1531\" width=\"400\"/>\n"
   ]
  },
  {
   "cell_type": "markdown",
   "id": "75b8a8eb",
   "metadata": {
    "slideshow": {
     "slide_type": "notes"
    }
   },
   "source": [
    "We've all been in this situation before: it seems unnecessary to have multiple nearly-identical versions of the same document. \n",
    "\n",
    "The danger of losing good versions often leads to the problematic workflow illustrated in the PhD Comics cartoon at the top of this page.\n",
    "\n",
    "Collaborative writing with traditional word processors is cumbersome. Either every collaborator has to work on a document sequentially (slowing down the process of writing), or you have to send out a version to all collaborators and manually merge their comments into your document. The 'track changes' option can highlight changes for you and simplifies merging, but as soon as you accept changes you will lose their history. You will then no longer know who suggested that change, why it was suggested, or when it was merged into the rest of the document.\n"
   ]
  },
  {
   "cell_type": "markdown",
   "id": "3af4bf90",
   "metadata": {
    "slideshow": {
     "slide_type": "slide"
    }
   },
   "source": [
    "## Version control\n",
    "\n",
    "\n",
    "* **Version control systems** (VCS) start with a **base version** of the document and then **keeps track of changes** you make each step of the way\n",
    "\n",
    "\n",
    "* VCS are essential for **developing software** and **carrying out projects** with a lot of code\n",
    "\n",
    "\n",
    "* VCS does not care about file names, intead records **who, what, when, and why** changes were made to files\n",
    "\n",
    "\n",
    "\n",
    "<img src=\"images/branch.svg\" width=\"600\"/>"
   ]
  },
  {
   "cell_type": "markdown",
   "id": "0514382b",
   "metadata": {
    "slideshow": {
     "slide_type": "slide"
    }
   },
   "source": [
    "## Git\n",
    "\n",
    "* One of the most popular VCS tools in use today is called `git`\n",
    "\n",
    "\n",
    "* It is a command-line tool that is installed locally \n",
    "\n",
    "\n",
    "* It is free and open-source software\n",
    "\n",
    "\n",
    "<img src=\"images/git.svg\" width=\"600\"/>\n"
   ]
  },
  {
   "cell_type": "markdown",
   "id": "0fb71530",
   "metadata": {
    "slideshow": {
     "slide_type": "slide"
    }
   },
   "source": [
    "## GitHub\n",
    "\n",
    "* **GitHub** is a web-based hosting service for `git`\n",
    "<br>\n",
    "<br>\n",
    "* Provides a graphical user interface\n",
    "<br>\n",
    "<br>\n",
    "* Maintained by Microsoft\n",
    "<br>\n",
    "<br>\n",
    "* There are other web-based hosting services (e.g. GitLab and Bitbucket)\n",
    "\n",
    "<img src=\"images/github.png\" width=\"200\"/>"
   ]
  },
  {
   "cell_type": "markdown",
   "id": "43675156",
   "metadata": {
    "slideshow": {
     "slide_type": "slide"
    }
   },
   "source": [
    "## Why do we use version control systems?\n"
   ]
  },
  {
   "cell_type": "markdown",
   "id": "3c2a856d",
   "metadata": {
    "slideshow": {
     "slide_type": "subslide"
    }
   },
   "source": [
    "### Security\n",
    "\n",
    "\n",
    "* VCS acts like an unlimited **'undo'** thereby **protecting source code** from yourself **and** others \n",
    "    \n",
    "    \n",
    "* e.g. catastrophe, human error, and unintended consequences\n",
    "\n",
    "\n",
    "<img src=\"images/hero.svg\" width=\"600\"/>"
   ]
  },
  {
   "cell_type": "markdown",
   "id": "94e8a0a6",
   "metadata": {
    "slideshow": {
     "slide_type": "subslide"
    }
   },
   "source": [
    "### Collaboration\n",
    "\n",
    "* VCS enables **many people** to work on the same project at the same time\n",
    "\n",
    "\n",
    "* Teams working in parallel accelerates project development\n",
    "\n",
    "<img src=\"images/colab.svg\" width=\"500\"/>"
   ]
  },
  {
   "cell_type": "markdown",
   "id": "2bdb1110",
   "metadata": {
    "slideshow": {
     "slide_type": "subslide"
    }
   },
   "source": [
    "### Community\n",
    "\n",
    "* Impossible for junior developer to mess up a big project \n",
    "\n",
    "\n",
    "* Since it is so robust this encourages open-source **experimentation** and **development**\n",
    "\n",
    "\n",
    "* `GitHub` has really emerged as the industry standard\n",
    "\n",
    "\n",
    "<img src=\"images/pull.svg\" width=\"500\"/>\n"
   ]
  },
  {
   "cell_type": "markdown",
   "id": "e823c6b4",
   "metadata": {
    "slideshow": {
     "slide_type": "slide"
    }
   },
   "source": [
    "## Drawbacks of version control\n",
    "\n",
    "* Difficult to learn\n",
    "\n",
    "<img src=\"images/meme.jpeg\" width=\"600\"/>\n"
   ]
  },
  {
   "cell_type": "markdown",
   "id": "98aee8be",
   "metadata": {
    "slideshow": {
     "slide_type": "slide"
    }
   },
   "source": [
    "## What have we been doing so far?\n",
    "\n",
    "<img src=\"images/gds_page.png\" width=\"1000\"/>"
   ]
  },
  {
   "cell_type": "markdown",
   "id": "47996fc4",
   "metadata": {
    "slideshow": {
     "slide_type": "slide"
    }
   },
   "source": [
    "<img src=\"images/git-fork-clone-flow.png\" width=\"400\"/>"
   ]
  },
  {
   "cell_type": "markdown",
   "id": "ebdb159b",
   "metadata": {
    "slideshow": {
     "slide_type": "slide"
    }
   },
   "source": [
    "## Some basic terms"
   ]
  },
  {
   "cell_type": "markdown",
   "id": "afc07561",
   "metadata": {
    "slideshow": {
     "slide_type": "subslide"
    }
   },
   "source": [
    "### Fork\n",
    "\n",
    "* **Copy** a repository to your GitHub.com account\n",
    "\n",
    "\n",
    "### Clone\n",
    "\n",
    "* Retrieve a repository from **GitHub.com** to **local machine**"
   ]
  },
  {
   "cell_type": "markdown",
   "id": "d8598b07",
   "metadata": {
    "slideshow": {
     "slide_type": "subslide"
    }
   },
   "source": [
    "### Commit\n",
    "\n",
    "* Create a **snapshot** of the contents of your file tree\n",
    "\n",
    "\n",
    "### Push\n",
    "\n",
    "* **Upload** your local changes to the central repository, along with necessary commits and objects\n",
    "\n",
    "\n",
    "### Pull \n",
    "\n",
    "* **Fetch** the contents of the central repository and immediately **merge** to your local copy"
   ]
  },
  {
   "cell_type": "markdown",
   "id": "1c551833",
   "metadata": {
    "slideshow": {
     "slide_type": "slide"
    }
   },
   "source": [
    "## Collaborating with GitHub\n",
    "\n",
    "\n",
    "* Centralized workflow\n",
    "<br>\n",
    "<br>\n",
    "* Feature branch workflow\n",
    "<br>\n",
    "<br>\n",
    "* Forking workflow\n",
    "<br>\n",
    "<br>\n",
    "* Others (e.g. Gitflow workflow)"
   ]
  },
  {
   "cell_type": "markdown",
   "id": "92206d99",
   "metadata": {
    "slideshow": {
     "slide_type": "slide"
    }
   },
   "source": [
    "### Centralized workflow\n",
    "\n",
    "* All team members **clone** a **single, central repository** to their local machine\n",
    "\n",
    "\n",
    "<img src=\"images/colab.svg\" width=\"600\"/>"
   ]
  },
  {
   "cell_type": "markdown",
   "id": "318e3bd6",
   "metadata": {
    "slideshow": {
     "slide_type": "subslide"
    }
   },
   "source": [
    "### Centralized workflow\n",
    "\n",
    "* One team member makes changes (e.g. add, modify, delete) to files on their local machine\n",
    "\n",
    "\n",
    "* Periodically, they should **commit** these changes (i.e. take a snapshot) with a short message saying what they did\n",
    "\n",
    "\n",
    "* When they are finished working, they can **push** their changes back to the central repository \n",
    "\n",
    "\n",
    "\n",
    "<img src=\"images/john_push.svg\" width=\"600\"/>"
   ]
  },
  {
   "cell_type": "markdown",
   "id": "27a1c8f1",
   "metadata": {
    "slideshow": {
     "slide_type": "subslide"
    }
   },
   "source": [
    "### Centralized workflow\n",
    "\n",
    "* But now when **another team member** (who has also been working on the project) tries to **push** their changes, Git will **refuse the request** because the their local history has **diverged** from the central repository\n",
    "\n",
    "<img src=\"images/mary_push.svg\" width=\"600\"/>"
   ]
  },
  {
   "cell_type": "markdown",
   "id": "7faa62a8",
   "metadata": {
    "slideshow": {
     "slide_type": "subslide"
    }
   },
   "source": [
    "### Centralized workflow\n",
    "\n",
    "* The team member must first **pull** the most recent changes in the central reposistory into their local repository\n",
    "\n",
    "<img src=\"images/mary_pull.svg\" width=\"600\"/>"
   ]
  },
  {
   "cell_type": "markdown",
   "id": "afbd5512",
   "metadata": {
    "slideshow": {
     "slide_type": "subslide"
    }
   },
   "source": [
    "### Centralized workflow\n",
    "\n",
    "* Team member then resolves any conflicts between their local version and the central repository.\n",
    "\n",
    "\n",
    "* Once finished, team member can then **commit** and **push** their changes to the central repo  \n",
    "\n",
    "\n",
    "<img src=\"images/mary_successful_push.svg\" width=\"600\"/>"
   ]
  },
  {
   "cell_type": "markdown",
   "id": "4dfe943f",
   "metadata": {
    "slideshow": {
     "slide_type": "subslide"
    }
   },
   "source": [
    "### Advantages of centralized workflow\n",
    "\n",
    "* Simplest workflow\n",
    "<br>\n",
    "<br>\n",
    "* Works well for small teams\n",
    "\n",
    "\n",
    "### Disadvantages\n",
    "\n",
    "* If someone breaks the central repo, it breaks for everyone\n",
    "\n",
    "\n",
    "* Potential for a lot of conflicts\n",
    "\n",
    "\n",
    "* One solution is to avoid working on the same files\n",
    "\n",
    "\n",
    "* But this does not scale well as teams increase in size\n",
    "\n",
    "\n"
   ]
  },
  {
   "cell_type": "markdown",
   "id": "9bbca0a1",
   "metadata": {
    "slideshow": {
     "slide_type": "slide"
    }
   },
   "source": [
    "### Feature branch workflow\n",
    "\n",
    "* The logical extension of the centralized workflow is to use **branches**\n",
    "\n",
    "\n",
    "* In this workflow, all feature development takes place in a dedicated branch instead of the main branch\n",
    "\n",
    "\n",
    "* This means that main branch never contains broken code - a huge advantage for continuous integration environments"
   ]
  },
  {
   "cell_type": "markdown",
   "id": "930574da",
   "metadata": {
    "slideshow": {
     "slide_type": "subslide"
    }
   },
   "source": [
    "### Feature branch workflow\n",
    "\n",
    "* All team members **clone** a **single, central repository** to their local machine\n",
    "\n",
    "<img src=\"images/colab.svg\" width=\"600\"/>"
   ]
  },
  {
   "cell_type": "markdown",
   "id": "7ad569e2",
   "metadata": {
    "slideshow": {
     "slide_type": "subslide"
    }
   },
   "source": [
    "### Feature branch workflow\n",
    "\n",
    "* Team members immediately create a new branch to make their changes\n",
    "\n",
    "<img src=\"images/big_branch.svg\" width=\"600\"/>"
   ]
  },
  {
   "cell_type": "markdown",
   "id": "90633423",
   "metadata": {
    "slideshow": {
     "slide_type": "subslide"
    }
   },
   "source": [
    "### Feature branch workflow\n",
    "\n",
    "\n",
    "* When team members finish their changes, they **push** their branch to the central repository. The central repository will now contain multiple branches.  \n",
    "\n",
    "\n",
    "* Therefore, unlike the centralized workflow, this **push** will never cause conflicts\n",
    "\n",
    "\n",
    "<img src=\"images/mary_successful_push.svg\" width=\"600\"/>"
   ]
  },
  {
   "cell_type": "markdown",
   "id": "f26830db",
   "metadata": {
    "slideshow": {
     "slide_type": "subslide"
    }
   },
   "source": [
    "### Feature branch workflow\n",
    "\n",
    "* Team members then submit a **pull request** on GitHub.com asking to **merge** their new feature (or branch) into the main codebase, all team members will be notified automatically\n",
    "\n",
    "\n",
    "<img src=\"images/git-pull-request.png\" width=\"300\"/>\n"
   ]
  },
  {
   "cell_type": "markdown",
   "id": "fc7564dc",
   "metadata": {
    "slideshow": {
     "slide_type": "subslide"
    }
   },
   "source": [
    "### Feature branch workflow\n",
    "\n",
    "* Team leader **reviews** pull request, discusses any changes with team members\n",
    "\n",
    "\n",
    "* Once everything looks good, team leader merges new feature into main codebase\n",
    "\n",
    "\n",
    "* Team member can then delete their branch\n",
    "\n",
    "\n",
    "<img src=\"images/merge.svg\" width=\"600\"/>"
   ]
  },
  {
   "cell_type": "markdown",
   "id": "e8a2406e",
   "metadata": {
    "slideshow": {
     "slide_type": "subslide"
    }
   },
   "source": [
    "<img src=\"images/pull-request.png\" width=\"800\"/>"
   ]
  },
  {
   "cell_type": "markdown",
   "id": "d13f1a12",
   "metadata": {
    "slideshow": {
     "slide_type": "subslide"
    }
   },
   "source": [
    "<img src=\"images/pr-changes.png\" width=\"1000\"/>"
   ]
  },
  {
   "cell_type": "markdown",
   "id": "4937c5d6",
   "metadata": {
    "slideshow": {
     "slide_type": "subslide"
    }
   },
   "source": [
    "<img src=\"images/create-pull-request.png\" width=\"1000\"/>"
   ]
  },
  {
   "cell_type": "markdown",
   "id": "eeafdcb6",
   "metadata": {
    "slideshow": {
     "slide_type": "subslide"
    }
   },
   "source": [
    "<img src=\"images/github-diff-file.png\" width=\"800\"/>"
   ]
  },
  {
   "cell_type": "markdown",
   "id": "0582e140",
   "metadata": {
    "slideshow": {
     "slide_type": "subslide"
    }
   },
   "source": [
    "### Advantages of feature branch workflow\n",
    "\n",
    "* Promotes collaboration with team members through **pull requests** and **merge reviews**\n",
    "\n",
    "\n",
    "* Teams can work in parallel on same files so good approach for larger teams\n",
    "\n",
    "\n",
    "* Main branch never contains broken code \n",
    "\n",
    "\n",
    "* Guiding framework for other, more complex worflows"
   ]
  },
  {
   "cell_type": "markdown",
   "id": "5b3c2ff3",
   "metadata": {
    "slideshow": {
     "slide_type": "slide"
    }
   },
   "source": [
    "### Forking workflows\n",
    "\n",
    "* Instead of using a single, central repository, forking workflows give every team member their **own central repository**\n",
    "\n",
    "\n",
    "\n",
    "* Team members can tinker with their forked repository as they wish without disturbing anyone else\n",
    "\n",
    "\n",
    "\n",
    "* When ready they can **push** to their private central repository and file **pull requests** if they think their changes are ready to be integrated to main codebase\n",
    "\n",
    "\n",
    "\n",
    "<img src=\"images/multiple_repos.svg\" width=\"600\"/>"
   ]
  },
  {
   "cell_type": "markdown",
   "id": "4e23692d",
   "metadata": {
    "slideshow": {
     "slide_type": "subslide"
    }
   },
   "source": [
    "### Advantages of forking workflows\n",
    "\n",
    "\n",
    "* Provides a little more **power** to the team leader because they are the only person that can push to the official repository\n",
    "\n",
    "\n",
    "\n",
    "* Allows the team leader to **accept/reject commits** from any developer without giving them write access to the main codebase\n",
    " \n",
    "\n",
    "\n",
    "* Often used for large open-source projects"
   ]
  },
  {
   "cell_type": "markdown",
   "id": "554137c9",
   "metadata": {
    "slideshow": {
     "slide_type": "slide"
    }
   },
   "source": [
    "### Gitflow workflow\n",
    "\n",
    "* Great for a release-based software workflow\n",
    "\n",
    "<img src=\"images/gitflow.svg\" width=\"500\"/>"
   ]
  },
  {
   "cell_type": "markdown",
   "id": "6b653c78",
   "metadata": {
    "slideshow": {
     "slide_type": "slide"
    }
   },
   "source": [
    "## Good practices"
   ]
  },
  {
   "cell_type": "markdown",
   "id": "9d3f7873",
   "metadata": {
    "slideshow": {
     "slide_type": "subslide"
    }
   },
   "source": [
    "### Agree on a workflow\n",
    "\n",
    "\n",
    "* It is important that teams establish shared patterns of collaboration\n",
    "\n",
    "\n",
    "* If a team doesn't agree on a shared workflow it can lead to inefficient communication when it comes time to merge branches"
   ]
  },
  {
   "cell_type": "markdown",
   "id": "19cff11f",
   "metadata": {
    "slideshow": {
     "slide_type": "subslide"
    }
   },
   "source": [
    "### Commit often\n",
    "\n",
    "\n",
    "* Commits are **easy to make** and provide opportunities to **revert** or **undo** work\n",
    "\n",
    "\n",
    "* They should be made **frequently** to capture updates to a code base"
   ]
  },
  {
   "cell_type": "markdown",
   "id": "099430a1",
   "metadata": {
    "slideshow": {
     "slide_type": "subslide"
    }
   },
   "source": [
    "### Ensure you're working from latest version\n",
    "\n",
    "\n",
    "* VCS enables rapid updates from multiple developers\n",
    "\n",
    "\n",
    "* It's easy to have a local copy of the codebase fall behind the global copy\n",
    "\n",
    "\n",
    "* Make sure to `git pull` or `fetch` the latest code before you start working on project"
   ]
  },
  {
   "cell_type": "markdown",
   "id": "bf1d2fab",
   "metadata": {
    "slideshow": {
     "slide_type": "subslide"
    }
   },
   "source": [
    "### Make detailed notes\n",
    "\n",
    "* It is important to leave descriptive explanatory commit log messages. These commit log messages should explain the \"why\" and \"what\" that encompass the commits content. \n",
    "\n",
    "\n",
    "* These log messages become the canonical history of the project's development and leave a trail for future contributors to review."
   ]
  },
  {
   "cell_type": "markdown",
   "id": "05afbf4d",
   "metadata": {
    "slideshow": {
     "slide_type": "subslide"
    }
   },
   "source": [
    "### Use branches\n",
    "\n",
    "\n",
    "* Branches enable multiple developers to work in parallel on **separate lines** of development\n",
    "\n",
    "\n",
    "* Branches should be used **frequently** as they are quick and inexpensive. \n",
    "\n",
    "\n",
    "* When development on a branch is complete it should be **merged** into the main line of development and then **deleted**"
   ]
  }
 ],
 "metadata": {
  "celltoolbar": "Slideshow",
  "kernelspec": {
   "display_name": "Python 3 (ipykernel)",
   "language": "python",
   "name": "python3"
  },
  "language_info": {
   "codemirror_mode": {
    "name": "ipython",
    "version": 3
   },
   "file_extension": ".py",
   "mimetype": "text/x-python",
   "name": "python",
   "nbconvert_exporter": "python",
   "pygments_lexer": "ipython3",
   "version": "3.8.12"
  },
  "vscode": {
   "interpreter": {
    "hash": "98ce20a62d14c83720c35cdc17d6f29feb427dbce2dff08969263276c12b459c"
   }
  }
 },
 "nbformat": 4,
 "nbformat_minor": 5
}
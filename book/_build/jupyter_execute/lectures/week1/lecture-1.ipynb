{
 "cells": [
  {
   "cell_type": "markdown",
   "metadata": {},
   "source": [
    "# Welcome to Geospatial Data Science\n",
    "\n",
    "## Lecture content\n",
    "\n",
    "* Schedule and expectations\n",
    "<br>\n",
    "<br>\n",
    "* Overview of course\n",
    "<br>\n",
    "<br>\n",
    "* Final projects\n",
    "<br>\n",
    "<br>\n",
    "* Introduction to this week's lab"
   ]
  },
  {
   "cell_type": "markdown",
   "metadata": {},
   "source": [
    "## Interactive Development Environment (IDE)\n",
    "\n",
    "* We recommend **VSCode**, a lightweight but powerful code editor that is available for Windows, Mac, **and** Linux.\n",
    "\n",
    "* Happy for students to use other IDEs (e.g. Spyder, JupyterLab) if already familiar with them."
   ]
  }
 ],
 "metadata": {
  "kernelspec": {
   "display_name": "Python 3.8.10 64-bit",
   "language": "python",
   "name": "python3"
  },
  "language_info": {
   "name": "python",
   "version": "3.8.10"
  },
  "vscode": {
   "interpreter": {
    "hash": "916dbcbb3f70747c44a77c7bcd40155683ae19c65e1c03b4aa3499c5328201f1"
   }
  }
 },
 "nbformat": 4,
 "nbformat_minor": 2
}
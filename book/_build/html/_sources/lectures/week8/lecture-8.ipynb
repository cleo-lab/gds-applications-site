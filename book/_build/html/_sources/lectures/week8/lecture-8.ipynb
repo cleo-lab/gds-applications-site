{
 "cells": [
  {
   "cell_type": "markdown",
   "id": "e631968a-3a1c-486a-8dab-d20f308409cb",
   "metadata": {},
   "source": [
    "# Automating raster analysis\n",
    "\n",
    "In this class we have, for the most part, been working with relatively tidy datasets. For example, vector datasets with no missing values, gridded datasets that have consistent dimensions. But in the real-world, datasets are often messy. When conducting a research project, therefore, most of our time is actually spent formatting data so that it is convenient to analyze. This includes making sure that gridded data has the same dimensions, grid cell sizes, and projections. In this activity, we will coach you through a typical workflow that we would use for analyzing many satellite images.\n",
    "\n",
    "## Background\n",
    "\n",
    "We have been asked to compute the seasonal variability in surface water for a small region just North of Anchorage, Alaska. To do this, we have downloaded satellite imagery from [Planet Lab's](https://www.planet.com/) constellation of CubeSats. The images can be downloaded from [here](XXX). These images contain four bands (Red, Green, Blue, and Near-Infrared) with a pixel resolution of ~3 m. Unfortunately, the images are not tiled meaning that the images have different numbers of rows and columns. This will prevent us applying statistical analysis to images as a whole. Furthermore, the images are projected in a geographic coordinate system (i.e. degrees) meaning that any area calculation will be inaccurate. The goal of this activity is to reformat the images to a common standard and track how surface water varies through time. Proceed by following the set of instructions below."
   ]
  },
  {
   "cell_type": "markdown",
   "id": "2fcffb16-3496-4956-aab6-df929b37024e",
   "metadata": {},
   "source": [
    "## Task 1\n",
    "\n",
    "* a) Download the data to your course folder\n",
    "\n",
    "* b) Import `rasterio` and `os` packages\n",
    "\n",
    "* c) Make a **sorted** list of files in the directory where you saved the data\n",
    "\n",
    "```{admonition} Click here for hint\n",
    ":class: tip, dropdown\n",
    "The [`os.listdir](https://docs.python.org/3/library/os.html#os.listdir)` function returns a list containing the names of the entries in the directory. The [`sorted()`](https://www.w3schools.com/python/ref_func_sorted.asp) function returns a sorted list. \n",
    "```\n",
    "\n",
    "* d) What is the list"
   ]
  },
  {
   "cell_type": "code",
   "execution_count": null,
   "id": "493873e4-137f-43e1-98fd-ff1f78e296b5",
   "metadata": {},
   "outputs": [],
   "source": [
    "import glob\n",
    "import rasterio\n",
    "import os"
   ]
  },
  {
   "cell_type": "code",
   "execution_count": 25,
   "id": "1855cfff-609e-4a47-80b8-2fd61e57114d",
   "metadata": {},
   "outputs": [
    {
     "data": {
      "text/plain": [
       "26"
      ]
     },
     "execution_count": 25,
     "metadata": {},
     "output_type": "execute_result"
    }
   ],
   "source": [
    "path = '/Users/johnnyryan/Dropbox (University of Oregon)/teaching/gds-applications-site/resources/data/petersville/'\n",
    "files = sorted(os.listdir(path))\n",
    "len(files)"
   ]
  },
  {
   "cell_type": "code",
   "execution_count": 32,
   "id": "a8f50b10-d47c-43cd-917f-036ea2d90b53",
   "metadata": {},
   "outputs": [
    {
     "name": "stdout",
     "output_type": "stream",
     "text": [
      "Width: 4991 and Height: 5467\n",
      "Width: 4991 and Height: 5467\n",
      "Width: 4991 and Height: 5467\n",
      "Width: 4991 and Height: 5467\n",
      "Width: 4991 and Height: 5467\n",
      "Width: 4991 and Height: 5467\n",
      "Width: 4991 and Height: 5467\n",
      "Width: 4941 and Height: 5467\n",
      "Width: 4559 and Height: 5459\n",
      "Width: 4991 and Height: 5467\n",
      "Width: 4991 and Height: 5467\n",
      "Width: 4908 and Height: 5467\n",
      "Width: 4787 and Height: 5467\n",
      "Width: 4300 and Height: 5450\n",
      "Width: 3960 and Height: 5435\n",
      "Width: 4991 and Height: 5467\n",
      "Width: 4991 and Height: 5467\n",
      "Width: 4991 and Height: 5467\n",
      "Width: 4991 and Height: 5467\n",
      "Width: 4926 and Height: 5467\n",
      "Width: 4434 and Height: 5453\n",
      "Width: 4991 and Height: 5467\n",
      "Width: 2381 and Height: 5380\n",
      "Width: 4991 and Height: 5467\n",
      "Width: 4991 and Height: 5467\n",
      "Width: 4991 and Height: 5467\n"
     ]
    }
   ],
   "source": [
    "for file in files:\n",
    "    filepath = path + file\n",
    "    src = rasterio.open(filepath)\n",
    "    print(f\"Width: {src.width} and Height: {src.height}\")"
   ]
  },
  {
   "cell_type": "code",
   "execution_count": 35,
   "id": "231c4696-cf9b-499a-b534-e3890f941c66",
   "metadata": {},
   "outputs": [
    {
     "name": "stdout",
     "output_type": "stream",
     "text": [
      "BoundingBox(left=617034.0, bottom=6906237.0, right=632007.0, top=6922638.0)\n",
      "BoundingBox(left=617034.0, bottom=6906237.0, right=632007.0, top=6922638.0)\n",
      "BoundingBox(left=617034.0, bottom=6906237.0, right=632007.0, top=6922638.0)\n",
      "BoundingBox(left=617034.0, bottom=6906237.0, right=632007.0, top=6922638.0)\n",
      "BoundingBox(left=617034.0, bottom=6906237.0, right=632007.0, top=6922638.0)\n",
      "BoundingBox(left=617034.0, bottom=6906237.0, right=632007.0, top=6922638.0)\n",
      "BoundingBox(left=617034.0, bottom=6906237.0, right=632007.0, top=6922638.0)\n",
      "BoundingBox(left=617034.0, bottom=6906237.0, right=631857.0, top=6922638.0)\n",
      "BoundingBox(left=618330.0, bottom=6906261.0, right=632007.0, top=6922638.0)\n",
      "BoundingBox(left=617034.0, bottom=6906237.0, right=632007.0, top=6922638.0)\n",
      "BoundingBox(left=617034.0, bottom=6906237.0, right=632007.0, top=6922638.0)\n",
      "BoundingBox(left=617283.0, bottom=6906237.0, right=632007.0, top=6922638.0)\n",
      "BoundingBox(left=617034.0, bottom=6906237.0, right=631395.0, top=6922638.0)\n",
      "BoundingBox(left=619107.0, bottom=6906288.0, right=632007.0, top=6922638.0)\n",
      "BoundingBox(left=617034.0, bottom=6906237.0, right=628914.0, top=6922542.0)\n",
      "BoundingBox(left=617034.0, bottom=6906237.0, right=632007.0, top=6922638.0)\n",
      "BoundingBox(left=617034.0, bottom=6906237.0, right=632007.0, top=6922638.0)\n",
      "BoundingBox(left=617034.0, bottom=6906237.0, right=632007.0, top=6922638.0)\n",
      "BoundingBox(left=617034.0, bottom=6906237.0, right=632007.0, top=6922638.0)\n",
      "BoundingBox(left=617229.0, bottom=6906237.0, right=632007.0, top=6922638.0)\n",
      "BoundingBox(left=617034.0, bottom=6906237.0, right=630336.0, top=6922596.0)\n",
      "BoundingBox(left=617034.0, bottom=6906237.0, right=632007.0, top=6922638.0)\n",
      "BoundingBox(left=624864.0, bottom=6906498.0, right=632007.0, top=6922638.0)\n",
      "BoundingBox(left=617034.0, bottom=6906237.0, right=632007.0, top=6922638.0)\n",
      "BoundingBox(left=617034.0, bottom=6906237.0, right=632007.0, top=6922638.0)\n",
      "BoundingBox(left=617034.0, bottom=6906237.0, right=632007.0, top=6922638.0)\n"
     ]
    }
   ],
   "source": [
    "for file in files:\n",
    "    filepath = path + file\n",
    "    src = rasterio.open(filepath)\n",
    "    print(src.bounds)"
   ]
  },
  {
   "cell_type": "code",
   "execution_count": 36,
   "id": "dd24d4e8-41c6-41ab-9db5-4aa484c7183a",
   "metadata": {},
   "outputs": [
    {
     "data": {
      "text/plain": [
       "Affine(3.0, 0.0, 617034.0,\n",
       "       0.0, -3.0, 6922638.0)"
      ]
     },
     "execution_count": 36,
     "metadata": {},
     "output_type": "execute_result"
    }
   ],
   "source": [
    "src.transform"
   ]
  },
  {
   "cell_type": "markdown",
   "id": "6359c1cf-2fbd-4617-9184-de4401d33615",
   "metadata": {},
   "source": [
    "## Convert datatype to minimum size\n"
   ]
  },
  {
   "cell_type": "code",
   "execution_count": 13,
   "id": "6ce62521-09bf-474c-9124-5c22145abff6",
   "metadata": {},
   "outputs": [
    {
     "data": {
      "text/plain": [
       "48"
      ]
     },
     "execution_count": 13,
     "metadata": {},
     "output_type": "execute_result"
    }
   ],
   "source": [
    "(4*4)+(4*8)"
   ]
  },
  {
   "cell_type": "code",
   "execution_count": 14,
   "id": "5abad70f-f350-4575-a818-e881294d3d7f",
   "metadata": {},
   "outputs": [
    {
     "data": {
      "text/plain": [
       "24"
      ]
     },
     "execution_count": 14,
     "metadata": {},
     "output_type": "execute_result"
    }
   ],
   "source": [
    "(3*4)+(3*4)"
   ]
  },
  {
   "cell_type": "code",
   "execution_count": null,
   "id": "4fb96887-5d2a-4d4c-99fd-3494f5ad3a4d",
   "metadata": {},
   "outputs": [],
   "source": []
  }
 ],
 "metadata": {
  "kernelspec": {
   "display_name": "Python 3 (ipykernel)",
   "language": "python",
   "name": "python3"
  },
  "language_info": {
   "codemirror_mode": {
    "name": "ipython",
    "version": 3
   },
   "file_extension": ".py",
   "mimetype": "text/x-python",
   "name": "python",
   "nbconvert_exporter": "python",
   "pygments_lexer": "ipython3",
   "version": "3.10.9"
  }
 },
 "nbformat": 4,
 "nbformat_minor": 5
}
